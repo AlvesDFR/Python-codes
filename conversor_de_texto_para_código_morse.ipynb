{
  "nbformat": 4,
  "nbformat_minor": 0,
  "metadata": {
    "colab": {
      "provenance": [],
      "toc_visible": true,
      "authorship_tag": "ABX9TyM0aCQaMDEWshxVBNiFquXy",
      "include_colab_link": true
    },
    "kernelspec": {
      "name": "python3",
      "display_name": "Python 3"
    },
    "language_info": {
      "name": "python"
    }
  },
  "cells": [
    {
      "cell_type": "markdown",
      "metadata": {
        "id": "view-in-github",
        "colab_type": "text"
      },
      "source": [
        "<a href=\"https://colab.research.google.com/github/AlvesDFR/Python-codes/blob/main/conversor_de_texto_para_c%C3%B3digo_morse.ipynb\" target=\"_parent\"><img src=\"https://colab.research.google.com/assets/colab-badge.svg\" alt=\"Open In Colab\"/></a>"
      ]
    },
    {
      "cell_type": "code",
      "execution_count": null,
      "metadata": {
        "id": "0NmrkUQ9NzT6"
      },
      "outputs": [],
      "source": [
        "morse_dict = {\n",
        "    'a': \".-\", 'b': \"-...\", 'c': \"-.-.\", 'd': \"-..\", 'e': \".\", 'f': \"..-.\", 'g': \"--.\", 'h': \"....\",\n",
        "    'i': \"..\", 'j': \".---\", 'k': \"-.-\", 'l': \".-..\", 'm': \"--\", 'n': \"-.\", 'o': \"---\", 'p': \".--.\",\n",
        "    'q': \"--.-\", 'r': \".-.\", 's': \"...\", 't': \"-\", 'u': \"..-\", 'v': \"...-\", 'w': \".--\", 'x': \"-..-\",\n",
        "    'y': \"-.--\", 'z': \"--..\",\n",
        "    '0': \"-----\", '1': \".----\", '2': \"..---\", '3': \"...--\", '4': \"....-\", '5': \".....\",\n",
        "    '6': \"-....\", '7': \"--...\", '8': \"---..\", '9': \"----.\"\n",
        "}\n",
        "\n",
        "text = input(\"Digite um texto para converter em Código Morse: \").lower()\n",
        "\n",
        "morse_code = \" \".join(morse_dict[char] for char in text if char in morse_dict)\n",
        "\n",
        "print(\"Texto em Código Morse:\", morse_code)\n",
        "\n"
      ]
    },
    {
      "cell_type": "code",
      "source": [],
      "metadata": {
        "id": "xC2wdL-QPXzI"
      },
      "execution_count": null,
      "outputs": []
    }
  ]
}